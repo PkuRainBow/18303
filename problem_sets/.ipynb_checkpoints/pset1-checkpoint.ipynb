{
 "cells": [
  {
   "cell_type": "markdown",
   "metadata": {},
   "source": [
    "# Problem set 1\n",
    "Due Friday 3/5/2021\n",
    "\n",
    "Check out this Jupyter [cheat sheet](https://medium.com/@ingeh/markdown-for-jupyter-notebooks-cheatsheet-386c05aeebed) for many useful things"
   ]
  },
  {
   "cell_type": "markdown",
   "metadata": {},
   "source": [
    "## 1. Linear algebra warmup (1/6 weight)\n",
    "\n",
    "1. Let $\\left\\langle x,y \\right\\rangle=x^{T}y$ be the real dot product in $\\mathbb{R}^{n}$. A matrix $A$ is real-symmetric if and only if $\\left\\langle Ax,y\\right\\rangle=\\left\\langle x,Ay\\right\\rangle$ for all $x,y\\in\\mathbb{R}^{n}$. Show that if a matrix $A$ is real-symmetric and invertible, then $A^{-1}$ is real-symmetric too.\n",
    "2. Consider the eigenvalue problem $B^{-1}Ax=\\lambda x$ where $A$ and $B$ are both real-symmetric matrices and $B$ is positive-definitie, i.e. $\\left\\langle Bx,x\\right\\rangle>0$ for any $x\\neq0$. Define the modified dot product $\\left\\langle x,y\\right\\rangle_{B}=x^{T}By$.\n",
    "\n",
    "    (a) Show that $\\left\\langle \\cdot,\\cdot\\right\\rangle_{B}$ is an inner product.\n",
    "    \n",
    "    (b) Show that $C=B^{-1}A$ is self-adjoint with respect to this dot product."
   ]
  },
  {
   "cell_type": "markdown",
   "metadata": {},
   "source": [
    "### Solution"
   ]
  },
  {
   "cell_type": "markdown",
   "metadata": {},
   "source": [
    "## 2. Quasi-periodic boundary conditions (2/6 weight)\n",
    "In lecture we investigated the 1D Poisson equation $Au=\\frac{d^{2}}{dx^{2}}u(x)=f(x)$ with Dirichlet boundary conditions $u(0)=u(1)=0$. In this case, we solved for the eigenfunctions of $A$ to get the Fourier sine series. Now consider a variation of the problem. Suppose the boundary conditions are instead $u(0)=e^{i\\theta} $ and $u^{\\prime}(0)=e^{i\\theta}u^{\\prime}(1)$ for some $\\theta\\in\\mathbb{R}$. \n",
    "1. What are the eigenfunctions and eigenvalues of $A$ when considering this set of functions?\n",
    "2. For what values of $\\theta$ will the Poisson equation with these boundary conditions not have unique solutions? Why?\n",
    "\n",
    "\\[ hint: consider the function $v(x)=\\exp(i\\theta x)u(x)$. Remember that the boundary conditions and the operator change in the DE for v. \\]"
   ]
  },
  {
   "cell_type": "markdown",
   "metadata": {},
   "source": [
    "### Solution"
   ]
  },
  {
   "cell_type": "markdown",
   "metadata": {},
   "source": [
    "## 3. Heat equation (3/6 weight)\n",
    "Consider the heat equation $$\\frac{\\partial u(t,x)}{\\partial t} = \\frac{\\partial^2 u(t,x)}{\\partial x^2}$$ on the interval $[0,1]$ with mixed boundary conditions $u(t,0)=0$, $u_x(t,1)=0$ (this is derivative with respect to $x$) and the initial condition $u(0,x)=u_0 (x)$.\n",
    "1. Solve this problem in terms of the function $u_0$.\n",
    "2. Let $u_0(x)=x(1-x)^2$. \n",
    "\n",
    "    (a) Create a tridiagonal matrix representing the Laplacian on the open interval $(0,1)$. How do you handle the other boundary? Plot few of the eigenvectors corresponding to smallest $|\\lambda_n|$ of this operator (see the `finite_differences` Jupyter notebook on the github page). \n",
    "    \n",
    "    (b) Create a function that does time stepping using a first order finite difference approximation in time ($u(t+s,x) = u(t,x) + s \\Delta u(t,x)$). This function is given a timestep $s$ and the current spatial data (1d vector) and it returns the configuration after one step. \n",
    "    \n",
    "    (c) Modify the method `sinecoeff` from the `Sine series` Jupyter notebook to give coefficients in your new basis from (a). Formulate the time evolution equation for the coefficients in this basis and solve using the finite difference scheme for the coefficients obtained from initial data.\n",
    "    \n",
    "    (d) Compare the numerical solutions from (b) and (c) with the analytical solution from (a). This will depend on the timestep $s$, the number of points in the spatial discretization and the number of modes used in (c)."
   ]
  }
 ],
 "metadata": {
  "kernelspec": {
   "display_name": "Julia 1.2.0",
   "language": "julia",
   "name": "julia-1.2"
  },
  "language_info": {
   "file_extension": ".jl",
   "mimetype": "application/julia",
   "name": "julia",
   "version": "1.2.0"
  }
 },
 "nbformat": 4,
 "nbformat_minor": 5
}
